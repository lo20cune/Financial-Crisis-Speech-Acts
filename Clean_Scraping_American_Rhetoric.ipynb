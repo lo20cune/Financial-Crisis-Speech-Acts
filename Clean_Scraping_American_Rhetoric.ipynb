{
  "nbformat": 4,
  "nbformat_minor": 0,
  "metadata": {
    "colab": {
      "provenance": []
    },
    "kernelspec": {
      "name": "python3",
      "display_name": "Python 3"
    },
    "language_info": {
      "name": "python"
    }
  },
  "cells": [
    {
      "cell_type": "code",
      "source": [
        "#To access your Google Drive folder structure in Google Colab:\n",
        "import os\n",
        "from google.colab import drive\n",
        "drive.mount('/content/drive')\n",
        "os.listdir()\n",
        "os.chdir(\"drive/MyDrive/\")"
      ],
      "metadata": {
        "colab": {
          "base_uri": "https://localhost:8080/"
        },
        "id": "iNhmBIv0jyNz",
        "outputId": "82b02352-91de-4a8d-fd40-81782f6e35d0"
      },
      "execution_count": null,
      "outputs": [
        {
          "output_type": "stream",
          "name": "stdout",
          "text": [
            "Drive already mounted at /content/drive; to attempt to forcibly remount, call drive.mount(\"/content/drive\", force_remount=True).\n"
          ]
        }
      ]
    },
    {
      "cell_type": "code",
      "source": [
        "import os\n",
        "import requests\n",
        "from bs4 import BeautifulSoup\n",
        "import re\n",
        "\n",
        "output_path = \""/content/drive/MyDrive/WS2324_TU_Darmstadt/MACA Testing\""
      ],
      "metadata": {
        "id": "Vznglf02kA5G"
      },
      "execution_count": null,
      "outputs": []
    },
    {
      "cell_type": "code",
      "source": [
        "#We want to remove elements using the decompose method, let's define what we want to remove\n",
        "\n",
        "def remove_elements(soup, elements_to_remove):\n",
        "    for element in soup.find_all(elements_to_remove):\n",
        "        element.decompose()\n",
        "\n",
        "#We want to define a \"scrape and save function\" we can use for all URLs later on\n",
        "def scrape_and_save(url):\n",
        "    headers = {\n",
        "        'User-Agent': 'Mozilla/5.0 (Windows NT 10.0; Win64; x64) AppleWebKit/537.36 (KHTML, like Gecko) Chrome/94.0.4606.71 Safari/537.36'\n",
        "    }\n",
        "\n",
        "    # Make an HTTP request\n",
        "    response = requests.get(url, headers=headers)\n",
        "    soup = BeautifulSoup(response.content, 'html.parser')\n",
        "\n",
        "    # Get the title before removing unnecessary elements\n",
        "    title_tag = soup.title\n",
        "    title = title_tag.string.strip() if title_tag and title_tag.string else 'Untitled'\n",
        "\n",
        "    # Elements to remove\n",
        "    elements_to_remove = ['head', 'script', 'style', 'meta', 'link']\n",
        "\n",
        "    # Remove unnecessary elements\n",
        "    remove_elements(soup, elements_to_remove)\n",
        "\n",
        "    # Identify the HTML elements containing the main body of text (speech)\n",
        "    main_text_elements = soup.find_all('p', {'align': 'left', 'style': 'line-height: 150%'})\n",
        "\n",
        "    # Extract and concatenate the text from identified elements\n",
        "    main_text = '\\n\\n'.join(element.get_text(strip=True) for element in main_text_elements)\n",
        "\n",
        "    #Code OG\n",
        "    cleaned_title = re.sub(r'[^\\w\\s]', '', title.replace(' ', '_'))\n",
        "    cleaned_title = cleaned_title.replace('\\n', '_').replace('\\r', '')  # Remove newline characters\n",
        "    cleaned_title = cleaned_title.replace('__', '_')\n",
        "    output_path = \"/content/drive/MyDrive/WS2324_TU_Darmstadt/MACA Testing\"  # Change this to your desired output directory\n",
        "    for_file_title = os.path.join(output_path, cleaned_title + \".txt\")\n",
        "    for_file_title = for_file_title.rstrip()  # Remove trailing whitespace\n",
        "\n",
        "    with open(for_file_title, \"w\", encoding='utf-8') as output_file:\n",
        "        output_file.write(main_text)\n",
        "        # No need to close the file explicitly; 'with' statement handles it\n",
        "\n",
        "    print(f\"Successfully saved content from {url} to {for_file_title}\")\n",
        "\n",
        "\n",
        "# List of URLs (EXAMPLES HERE)\n",
        "urls = [\n",
        "    'https://www.americanrhetoric.com/speeches/barackobama/barackobamaweeklytransition3.htm',\n",
        "    'https://www.americanrhetoric.com/speeches/jfkinaugural.htm'\n",
        "\n",
        "]\n",
        "\n",
        "# Iterate over URLs and scrape using or pre-defined scrape and save function\n",
        "for url in urls:\n",
        "    scrape_and_save(url)\n",
        "\n",
        "#here, you need to copy your path or define it above\n",
        "corpus = os.listdir(output_path)\n",
        "print(corpus)\n",
        "\n",
        "corpus_length = len(corpus)\n",
        "print(corpus_length)\n",
        "print(main_text)"
      ],
      "metadata": {
        "colab": {
          "base_uri": "https://localhost:8080/"
        },
        "id": "S1uiOIZIwL9J",
        "outputId": "dbdff395-f76c-4731-e1a4-2e65b9aea981"
      },
      "execution_count": 107,
      "outputs": [
        {
          "output_type": "stream",
          "name": "stdout",
          "text": [
            "Successfully saved content from https://www.americanrhetoric.com/speeches/barackobama/barackobamaweeklytransition3.htm to /content/drive/MyDrive/WS2324_TU_Darmstadt/MACA Testing/American_Rhetoric_Barack_Obama_Third_Weekly_Transition_Address_112108.txt\n",
            "Successfully saved content from https://www.americanrhetoric.com/speeches/jfkinaugural.htm to /content/drive/MyDrive/WS2324_TU_Darmstadt/MACA Testing/John_F_Kennedy_Inaugural_Address.txt\n",
            "['American_Rhetoric_Barack_Obama_Third_Weekly_Transition_Address_112108.txt', 'John_F_Kennedy_Inaugural_Address.txt', '.ipynb_checkpoints']\n",
            "3\n",
            "Good morning.\n",
            "\n",
            "The news this week has \n",
            "\t\tonly reinforced the fact that we are facing an economic crisis of \n",
            "\t\thistoric proportions. Financial markets faced more turmoil. New home \n",
            "\t\tpurchases in October were the lowest in half a century. 540,000 more \n",
            "\t\tjobless claims were filed last week, the highest in 18 years. And we now \n",
            "\t\trisk falling into a deflationary spiral that could increase our massive \n",
            "\t\tdebt even further.\n",
            "\n",
            "While I’m pleased that \n",
            "\t\tCongress passed a long-overdue extension of unemployment benefits this \n",
            "\t\tweek, we must do more to put people back to work and get our economy \n",
            "\t\tmoving again. We have now lost 1.2 million jobs this year, and if we \n",
            "\t\tdon’t act swiftly and boldly, most experts now believe that we could \n",
            "\t\tlose millions of jobs next year.\n",
            "\n",
            "Now there are no quick or \n",
            "\t\teasy fixes to this crisis, which has been many years in the making, and \n",
            "\t\tit’s likely to get worse before it gets better. But January 20th is our \n",
            "\t\tchance to begin anew -- with a new direction, new ideas, and new reforms \n",
            "\t\tthat will create jobs and fuel long-term economic growth.\n",
            "\n",
            "I have already directed my \n",
            "\t\teconomic team to come up with an Economic Recovery Plan that will mean \n",
            "\t\t2.5 million more jobs by January of 2011 -- a plan big enough to meet \n",
            "\t\tthe challenges we face that I intend to sign soon after taking office. \n",
            "\t\tWe’ll be working out the details in the weeks ahead, but it will be a \n",
            "\t\ttwo-year, nationwide effort to jumpstart job creation in America and lay \n",
            "\t\tthe foundation for a strong and growing economy. We’ll put people back \n",
            "\t\tto work rebuilding our crumbling roads and bridges, modernizing schools \n",
            "\t\tthat are failing our children, and building wind farms and solar panels, \n",
            "\t\tfuel-efficient cars and the alternative energy technologies that can \n",
            "\t\tfree us from our dependence on foreign oil and keep our economy \n",
            "\t\tcompetitive in the years ahead.\n",
            "\n",
            "These aren’t just steps to \n",
            "\t\tpull ourselves out of this immediate crisis. These are the long-term \n",
            "\t\tinvestments in our economic future that have been ignored for far too \n",
            "\t\tlong; and they represent an early down payment on the type of reform my \n",
            "\t\tAdministration will bring to Washington: a government that spends \n",
            "\t\twisely, focuses on what works, and puts the public interest ahead of the \n",
            "\t\tsame special interests that have come to dominate our politics.\n",
            "\n",
            "I know that passing this \n",
            "\t\tplan won’t be easy. I will need and seek support from Republicans and \n",
            "\t\tDemocrats, and I’ll be welcome to ideas and suggestions from both sides \n",
            "\t\tof the aisle. But what is not negotiable is the need for immediate \n",
            "\t\taction. Right now, there are millions of mothers and fathers who are \n",
            "\t\tlying awake at night wondering if next week’s paycheck will cover next \n",
            "\t\tmonth’s bills. There are Americans showing up to work in the morning \n",
            "\t\tonly to have cleared out their desks by the afternoon. Retirees are \n",
            "\t\twatching their life savings disappear and students are seeing their \n",
            "\t\tcollege dreams deferred. These Americans need help, and they need it \n",
            "\t\tnow.\n",
            "\n",
            "The survival of the \n",
            "\t\tAmerican Dream for over two centuries is not only a testament to its \n",
            "\t\tenduring power, but to the great effort, sacrifice, and courage of the \n",
            "\t\tAmerican people. It has thrived because in our darkest hours we have \n",
            "\t\trisen above the smallness of our divisions to forge a path toward a new \n",
            "\t\tand brighter day. We've acted boldly, bravely, and above all, together. \n",
            "\t\tThat is the chance our new beginning now offers us, and that is the \n",
            "\t\tchallenge we must rise to in the days to come. It is time to act. As the \n",
            "\t\tnext President of the United States, I will.\n",
            "\n",
            "Thank you.\n"
          ]
        }
      ]
    }
  ]
}
